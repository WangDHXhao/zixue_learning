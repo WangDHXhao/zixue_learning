{
 "cells": [
  {
   "cell_type": "markdown",
   "metadata": {
    "collapsed": true
   },
   "source": [
    "# 路径表示"
   ]
  },
  {
   "cell_type": "code",
   "execution_count": 1,
   "metadata": {
    "pycharm": {
     "name": "#%%\n"
    }
   },
   "outputs": [
    {
     "data": {
      "text/plain": [
       "'C:/Users/WangHao/Desktop/python_learning'"
      ]
     },
     "execution_count": 1,
     "metadata": {},
     "output_type": "execute_result"
    }
   ],
   "source": [
    "'C:/Users/WangHao/Desktop/python_learning'"
   ]
  },
  {
   "cell_type": "code",
   "execution_count": 3,
   "metadata": {},
   "outputs": [
    {
     "data": {
      "text/plain": [
       "'C:\\\\Users\\\\WangHao\\\\Desktop\\\\python_learning'"
      ]
     },
     "execution_count": 3,
     "metadata": {},
     "output_type": "execute_result"
    }
   ],
   "source": [
    "r'C:\\Users\\WangHao\\Desktop\\python_learning'"
   ]
  },
  {
   "cell_type": "code",
   "execution_count": 4,
   "metadata": {},
   "outputs": [],
   "source": [
    "import os"
   ]
  },
  {
   "cell_type": "markdown",
   "metadata": {},
   "source": [
    "## 获取当前的工作路径"
   ]
  },
  {
   "cell_type": "code",
   "execution_count": 5,
   "metadata": {},
   "outputs": [
    {
     "data": {
      "text/plain": [
       "'C:\\\\Users\\\\WangHao\\\\Desktop\\\\python_learning'"
      ]
     },
     "execution_count": 5,
     "metadata": {},
     "output_type": "execute_result"
    }
   ],
   "source": [
    "os.getcwd()"
   ]
  },
  {
   "cell_type": "code",
   "execution_count": 6,
   "metadata": {},
   "outputs": [],
   "source": [
    "path=r'C:/Users/WangHao/Desktop/python_learning'"
   ]
  },
  {
   "cell_type": "code",
   "execution_count": 7,
   "metadata": {},
   "outputs": [
    {
     "data": {
      "text/plain": [
       "['.idea',\n",
       " '.ipynb_checkpoints',\n",
       " '100道面试题',\n",
       " 'biaoqian.txt',\n",
       " 'haha.py',\n",
       " 'helper.py',\n",
       " 'numpy的广播机制.py',\n",
       " 'oop',\n",
       " 'os模块的学习.ipynb',\n",
       " 'test.py',\n",
       " '__pycache__',\n",
       " '入门阶段']"
      ]
     },
     "execution_count": 7,
     "metadata": {},
     "output_type": "execute_result"
    }
   ],
   "source": [
    "os.listdir(path)"
   ]
  },
  {
   "cell_type": "markdown",
   "metadata": {},
   "source": [
    "# 传入任意一个path路径，深层次遍历指定路径下的所有子文件夹，返回的是一个由路径、文件夹列表、文件表组成的元组"
   ]
  },
  {
   "cell_type": "code",
   "execution_count": 9,
   "metadata": {},
   "outputs": [
    {
     "name": "stdout",
     "output_type": "stream",
     "text": [
      "C:/Users/WangHao/Desktop/python_learning\n",
      "['.idea', '.ipynb_checkpoints', '100道面试题', 'oop', '__pycache__', '入门阶段']\n",
      "['biaoqian.txt', 'haha.py', 'helper.py', 'numpy的广播机制.py', 'os模块的学习.ipynb', 'test.py']\n",
      "\n",
      "\n",
      "C:/Users/WangHao/Desktop/python_learning\\.idea\n",
      "['inspectionProfiles']\n",
      "['.gitignore', 'deployment.xml', 'misc.xml', 'modules.xml', 'python学习.iml', 'workspace.xml']\n",
      "\n",
      "\n",
      "C:/Users/WangHao/Desktop/python_learning\\.idea\\inspectionProfiles\n",
      "[]\n",
      "['profiles_settings.xml', 'Project_Default.xml']\n",
      "\n",
      "\n",
      "C:/Users/WangHao/Desktop/python_learning\\.ipynb_checkpoints\n",
      "[]\n",
      "['os模块的学习-checkpoint.ipynb']\n",
      "\n",
      "\n",
      "C:/Users/WangHao/Desktop/python_learning\\100道面试题\n",
      "[]\n",
      "['01.py', '02.py', '03.py', '04-打印区间内的所有素数.py', '05-求前N个数的平方和.py', '06-计算列表数字的和.py', '07-计算数字范围中所有偶数.py', '08-删除列表中的多于元素.py']\n",
      "\n",
      "\n",
      "C:/Users/WangHao/Desktop/python_learning\\oop\n",
      "[]\n",
      "['10-魔法方法.py', '13-对象的关联.py']\n",
      "\n",
      "\n",
      "C:/Users/WangHao/Desktop/python_learning\\__pycache__\n",
      "[]\n",
      "['helper.cpython-38.pyc']\n",
      "\n",
      "\n",
      "C:/Users/WangHao/Desktop/python_learning\\入门阶段\n",
      "[]\n",
      "['104-缺省参数.py', '105-命名参数.py', '106-不定长参数.py', '107-budingchang canshu.py', '109-通过星号进行拆包.py', '110-使用两个星号进行拆包.py', '111-星号拆包难点.py', '112-引入“引用”.py', '114-函数名也是引用.py', '115-匿名函数.py', '34-循环的两种方式.py', '36-while案例.py', '41-while循环嵌套案例：九九乘法表.py', '45-for循环案例.py', '47-break.py', '48-continue.py', '50-在循环嵌套中使用break.py', '53-字符串.py', '55-字符串切片.py', '61-列表.py', '62-列表的-增.py', '66-列表操作-排序.py', '67-列表操作-nixu.py', '68-列表嵌套.py', '69-列表的嵌套应用：分配办公室.py', '70-给程序传递参数.py', '71-元组.py', '73-列表、元组、集合转换.py', '74-转换类型的案例.py', '78-总结：4种方法何时用.py', '79-对字典进行遍历.py', '81-推导式.py']\n",
      "\n",
      "\n"
     ]
    }
   ],
   "source": [
    "path=r'C:/Users/WangHao/Desktop/python_learning'\n",
    "for path,dirs,files in os.walk(path):\n",
    "    print(path)\n",
    "    print(dirs)\n",
    "    print(files)\n",
    "    print('\\n')"
   ]
  },
  {
   "cell_type": "markdown",
   "metadata": {},
   "source": [
    "# 传入一个path路径，判断指定路径下的目录是否存在。存在返回True，否则返回Flase"
   ]
  },
  {
   "cell_type": "code",
   "execution_count": 11,
   "metadata": {},
   "outputs": [
    {
     "name": "stdout",
     "output_type": "stream",
     "text": [
      "指定文件夹存在\n"
     ]
    }
   ],
   "source": [
    "path1=r'C:\\Users\\WangHao\\Desktop\\python_learning\\oop'\n",
    "if os.path.exists(path1):\n",
    "    print('指定文件夹存在')\n",
    "else:\n",
    "    print('指定文件夹不存在')"
   ]
  },
  {
   "cell_type": "markdown",
   "metadata": {},
   "source": [
    "# 传入一个path路径，创建单层（单个）文件夹；如果文件夹已经存在，就会报错。因此创建文件夹前，最好先使用os.path.exists() 函数来判断文件夹是否存在"
   ]
  },
  {
   "cell_type": "code",
   "execution_count": 12,
   "metadata": {},
   "outputs": [],
   "source": [
    "os.getcwd()\n",
    "path1=os.getcwd()+\"/guojia\""
   ]
  },
  {
   "cell_type": "code",
   "execution_count": 14,
   "metadata": {},
   "outputs": [],
   "source": [
    "os.mkdir(path1)"
   ]
  },
  {
   "cell_type": "markdown",
   "metadata": {},
   "source": [
    "# 生成一个递归的文件夹"
   ]
  },
  {
   "cell_type": "code",
   "execution_count": 17,
   "metadata": {},
   "outputs": [],
   "source": [
    "os.getcwd()\n",
    "path2=os.getcwd()+\"/guojia/renming\"\n",
    "os.mkdir(path2)"
   ]
  },
  {
   "cell_type": "code",
   "execution_count": 18,
   "metadata": {},
   "outputs": [],
   "source": [
    "os.rmdir(path2)    #只能删除空文件夹"
   ]
  },
  {
   "cell_type": "markdown",
   "metadata": {},
   "source": [
    "# 传入两个path路径，将该路径拼接起来，形成一个新的完整路径"
   ]
  },
  {
   "cell_type": "code",
   "execution_count": 20,
   "metadata": {},
   "outputs": [
    {
     "name": "stdout",
     "output_type": "stream",
     "text": [
      "C:\\Users\\WangHao\\Desktop\\python_learning\\a.jpg\n",
      "C:\\Users\\WangHao\\Desktop\\python_learning\\b.png\n",
      "C:\\Users\\WangHao\\Desktop\\python_learning\\c.bmp\n"
     ]
    }
   ],
   "source": [
    "path = os.getcwd()\n",
    "list=['a.jpg','b.png','c.bmp']\n",
    "for i in list:\n",
    "    x=os.path.join(path,i)\n",
    "    print(x)"
   ]
  },
  {
   "cell_type": "markdown",
   "metadata": {},
   "source": [
    "# 传入一个完整的路径，将该路径拆分为绝对路径跟文件名"
   ]
  },
  {
   "cell_type": "code",
   "execution_count": 21,
   "metadata": {},
   "outputs": [
    {
     "data": {
      "text/plain": [
       "('C:\\\\Users\\\\WangHao\\\\Desktop\\\\python_learning', 'img\\x0c.png')"
      ]
     },
     "execution_count": 21,
     "metadata": {},
     "output_type": "execute_result"
    }
   ],
   "source": [
    "path = os.getcwd()+\"\\img\\f.png\"\n",
    "os.path.split(path)"
   ]
  },
  {
   "cell_type": "markdown",
   "metadata": {},
   "source": [
    "# 传入一个完整的路径，只获取绝对路径，返回path目录，其实就是返回os.path.split(path)元组的第一个元素"
   ]
  },
  {
   "cell_type": "code",
   "execution_count": 24,
   "metadata": {},
   "outputs": [
    {
     "data": {
      "text/plain": [
       "'C:\\\\Users\\\\WangHao\\\\Desktop\\\\python_learning/img'"
      ]
     },
     "execution_count": 24,
     "metadata": {},
     "output_type": "execute_result"
    }
   ],
   "source": [
    "path=os.getcwd()+\"/img/logo.bmp\"\n",
    "os.path.dirname(path)"
   ]
  },
  {
   "cell_type": "code",
   "execution_count": 25,
   "metadata": {},
   "outputs": [
    {
     "data": {
      "text/plain": [
       "'logo.bmp'"
      ]
     },
     "execution_count": 25,
     "metadata": {},
     "output_type": "execute_result"
    }
   ],
   "source": [
    "path=os.getcwd()+\"/img/logo.bmp\"\n",
    "os.path.basename(path)"
   ]
  },
  {
   "cell_type": "markdown",
   "metadata": {},
   "source": [
    "# 传入一个完整的文件路径，判断它是否含有文件夹"
   ]
  },
  {
   "cell_type": "code",
   "execution_count": 26,
   "metadata": {},
   "outputs": [
    {
     "name": "stdout",
     "output_type": "stream",
     "text": [
      ".idea\n",
      ".ipynb_checkpoints\n",
      "100道面试题\n",
      "img\n",
      "oop\n",
      "__pycache__\n",
      "入门阶段\n"
     ]
    }
   ],
   "source": [
    "path = os.getcwd()\n",
    "file_list=os.listdir()\n",
    "for file in file_list:\n",
    "    if os.path.isdir(file):   #判断是否为文件夹\n",
    "        print(file)"
   ]
  },
  {
   "cell_type": "markdown",
   "metadata": {},
   "source": [
    "# 返回当前操作系统的路径分隔符"
   ]
  },
  {
   "cell_type": "code",
   "execution_count": 27,
   "metadata": {},
   "outputs": [
    {
     "data": {
      "text/plain": [
       "'\\\\'"
      ]
     },
     "execution_count": 27,
     "metadata": {},
     "output_type": "execute_result"
    }
   ],
   "source": [
    "os.path.sep"
   ]
  },
  {
   "cell_type": "markdown",
   "metadata": {},
   "source": [
    "# 传入一个完整的文件路径，返回该文件的大小"
   ]
  },
  {
   "cell_type": "code",
   "execution_count": 28,
   "metadata": {},
   "outputs": [
    {
     "data": {
      "text/plain": [
       "12288"
      ]
     },
     "execution_count": 28,
     "metadata": {},
     "output_type": "execute_result"
    }
   ],
   "source": [
    "path=os.getcwd()\n",
    "os.path.getsize(path)"
   ]
  },
  {
   "cell_type": "markdown",
   "metadata": {},
   "source": [
    "# 返回path的绝对路径，os.path.abspath()  取决于os.getcwd()"
   ]
  },
  {
   "cell_type": "code",
   "execution_count": 29,
   "metadata": {},
   "outputs": [
    {
     "data": {
      "text/plain": [
       "'C:\\\\Users\\\\WangHao\\\\Desktop\\\\data_split\\\\new_bf_data'"
      ]
     },
     "execution_count": 29,
     "metadata": {},
     "output_type": "execute_result"
    }
   ],
   "source": [
    "path=os.getcwd()\n",
    "path1=r'C:\\Users\\WangHao\\Desktop\\data_split\\new_bf_data'\n",
    "os.path.abspath(path1)"
   ]
  },
  {
   "cell_type": "code",
   "execution_count": 31,
   "metadata": {},
   "outputs": [
    {
     "name": "stdout",
     "output_type": "stream",
     "text": [
      "C:\\Users\\WangHao\\Desktop\\python_learning\n"
     ]
    }
   ],
   "source": [
    "path=os.getcwd()\n",
    "print(path)"
   ]
  },
  {
   "cell_type": "code",
   "execution_count": null,
   "metadata": {},
   "outputs": [],
   "source": []
  }
 ],
 "metadata": {
  "kernelspec": {
   "display_name": "Python [conda env:py38] *",
   "language": "python",
   "name": "conda-env-py38-py"
  },
  "language_info": {
   "codemirror_mode": {
    "name": "ipython",
    "version": 3
   },
   "file_extension": ".py",
   "mimetype": "text/x-python",
   "name": "python",
   "nbconvert_exporter": "python",
   "pygments_lexer": "ipython3",
   "version": "3.8.10"
  }
 },
 "nbformat": 4,
 "nbformat_minor": 1
}
